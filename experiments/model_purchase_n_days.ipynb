{
 "cells": [
  {
   "cell_type": "markdown",
   "id": "c8348d5f",
   "metadata": {},
   "source": [
    "# Модель для классификации для N дней"
   ]
  },
  {
   "cell_type": "code",
   "execution_count": 8,
   "id": "4a8b95d2",
   "metadata": {},
   "outputs": [],
   "source": [
    "import pandas as pd\n",
    "import numpy as np\n",
    "import xgboost as xgb\n",
    "from category_encoders import TargetEncoder\n",
    "from sklearn.model_selection import TimeSeriesSplit"
   ]
  },
  {
   "cell_type": "code",
   "execution_count": 3,
   "id": "e8f597dc",
   "metadata": {},
   "outputs": [],
   "source": [
    "df = pd.read_csv(\"../dataframe/prepared_data_for_predict_next_purchase.csv\")"
   ]
  },
  {
   "cell_type": "code",
   "execution_count": 5,
   "id": "478bcd11",
   "metadata": {},
   "outputs": [
    {
     "data": {
      "text/plain": [
       "Index(['user_id', 'countPoints', 'Item', 'Date', 'Price', 'Fromat_Offline',\n",
       "       'Format_Trade_In', 'sertificate_6_months', 'Ag_800', 'Ag_925', 'Au_375',\n",
       "       'Au_585', 'Other_materials', 'Steal_0', 'Jewelry', 'IsHoliday', 'Month',\n",
       "       'Weekday', 'Quarter', 'Month_sin', 'Month_cos', 'Weekday_sin',\n",
       "       'Weekday_cos', 'Quarter_sin', 'Quarter_cos', 'NextPurchaseDate',\n",
       "       'DaysUntilNextPurchase', 'Purchase_in_next_7d', 'Purchase_in_next_14d',\n",
       "       'Purchase_in_next_30d', 'Purchase_in_next_60d', 'Purchase_in_next_90d',\n",
       "       'Price_Segment', 'avg_user_item_interval', 'avg_price', 'total_points',\n",
       "       'purchase_count', 'DaysSinceLastPurchase', 'Item_popularity',\n",
       "       'Days_Since_Last_Purchase', 'Average_Check', 'Price_Preference',\n",
       "       'Category', 'Is_Favorite_Category', 'Category_freq', 'User_Item_Count',\n",
       "       'days_since_last_purchase', 'days_since_last_purchase_avg',\n",
       "       'days_since_last_purchase_max', 'days_since_last_purchase_min'],\n",
       "      dtype='object')"
      ]
     },
     "execution_count": 5,
     "metadata": {},
     "output_type": "execute_result"
    }
   ],
   "source": [
    "df.columns"
   ]
  },
  {
   "cell_type": "code",
   "execution_count": 33,
   "id": "7c0873ea",
   "metadata": {},
   "outputs": [],
   "source": [
    "df = df.dropna(subset=['DaysUntilNextPurchase'])"
   ]
  },
  {
   "cell_type": "code",
   "execution_count": 34,
   "id": "8b5e0d79",
   "metadata": {},
   "outputs": [],
   "source": [
    "df[\"Date\"] = pd.to_datetime(df[\"Date\"])"
   ]
  },
  {
   "cell_type": "code",
   "execution_count": 28,
   "id": "42407ba7",
   "metadata": {},
   "outputs": [
    {
     "name": "stdout",
     "output_type": "stream",
     "text": [
      "count    21451.000000\n",
      "mean        26.587478\n",
      "std         72.125469\n",
      "min          0.000000\n",
      "25%          0.000000\n",
      "50%          0.000000\n",
      "75%          2.000000\n",
      "max       1027.000000\n",
      "Name: DaysUntilNextPurchase, dtype: float64\n",
      "0.7288704489301198\n"
     ]
    }
   ],
   "source": [
    "print(df[\"DaysUntilNextPurchase\"].describe())\n",
    "print((df[\"DaysUntilNextPurchase\"] == 0).mean())"
   ]
  },
  {
   "cell_type": "code",
   "execution_count": null,
   "id": "2076759d",
   "metadata": {},
   "outputs": [],
   "source": [
    "df[\"Date\"] = pd.to_datetime(df[\"Date\"], errors=\"coerce\")\n",
    "df = df.dropna(subset=[\"Date\"]).sort_values(\"Date\").reset_index(drop=True)"
   ]
  },
  {
   "cell_type": "code",
   "execution_count": null,
   "id": "a3d634c9",
   "metadata": {},
   "outputs": [],
   "source": [
    "target_cols = [\n",
    "    \"Purchase_in_next_7d\",\n",
    "    \"Purchase_in_next_14d\",\n",
    "    \"Purchase_in_next_30d\",\n",
    "    \"Purchase_in_next_60d\",\n",
    "    \"Purchase_in_next_90d\",\n",
    "]\n",
    "days_intervals = np.array([7, 14, 30, 60, 90])"
   ]
  },
  {
   "cell_type": "code",
   "execution_count": null,
   "id": "b0a677ea",
   "metadata": {},
   "outputs": [],
   "source": [
    "cat_cols = [\"Item\", \"Category\", \"Price_Segment\", \"Price_Preference\"]\n",
    "bin_cols = [\n",
    "    \"Is_Favorite_Category\",\n",
    "    \"Fromat_Offline\",\n",
    "    \"Format_Trade_In\",\n",
    "    \"sertificate_6_months\",\n",
    "    \"Ag_800\",\n",
    "    \"Ag_925\",\n",
    "    \"Au_375\",\n",
    "    \"Au_585\",\n",
    "    \"Other_materials\",\n",
    "    \"Steal_0\",\n",
    "    \"Jewelry\",\n",
    "    \"IsHoliday\",\n",
    "]\n",
    "num_cols = [\n",
    "    \"countPoints\",\n",
    "    \"Price\",\n",
    "    \"avg_user_item_interval\",\n",
    "    \"avg_price\",\n",
    "    \"total_points\",\n",
    "    \"purchase_count\",\n",
    "    \"DaysSinceLastPurchase\",\n",
    "    \"Days_Since_Last_Purchase\",\n",
    "    \"Average_Check\",\n",
    "    \"User_Item_Count\",\n",
    "    \"days_since_last_purchase\",\n",
    "    \"days_since_last_purchase_avg\",\n",
    "    \"days_since_last_purchase_max\",\n",
    "    \"days_since_last_purchase_min\",\n",
    "    \"Item_popularity\",\n",
    "]\n",
    "season_cols = [\n",
    "    \"Month_sin\",\n",
    "    \"Month_cos\",\n",
    "    \"Weekday_sin\",\n",
    "    \"Weekday_cos\",\n",
    "    \"Quarter_sin\",\n",
    "    \"Quarter_cos\",\n",
    "]\n",
    "\n",
    "features = num_cols + bin_cols + season_cols + cat_cols"
   ]
  },
  {
   "cell_type": "code",
   "execution_count": null,
   "id": "64ee1091",
   "metadata": {},
   "outputs": [],
   "source": [
    "X = df[features].copy()\n",
    "y = df[target_cols].copy()"
   ]
  },
  {
   "cell_type": "code",
   "execution_count": null,
   "id": "01ec7d20",
   "metadata": {},
   "outputs": [],
   "source": [
    "n_splits = 5\n",
    "tscv = TimeSeriesSplit(n_splits=n_splits)\n",
    "precision_folds = {col: [] for col in target_cols}\n",
    "\n",
    "for fold, (train_idx, test_idx) in enumerate(tscv.split(X)):\n",
    "    X_train, X_test = X.iloc[train_idx].copy(), X.iloc[test_idx].copy()\n",
    "    y_train, y_test = y.iloc[train_idx].copy(), y.iloc[test_idx].copy()\n",
    "\n",
    "    X_train_enc = X_train.copy()\n",
    "    X_test_enc = X_test.copy()\n",
    "    for col in cat_cols:\n",
    "        te = TargetEncoder(cols=[col])\n",
    "        te.fit(X_train[[col]], y_train.mean(axis=1))\n",
    "        X_train_enc[col] = te.transform(X_train[[col]])\n",
    "        X_test_enc[col] = te.transform(X_test[[col]])\n",
    "\n",
    "    for col in target_cols:\n",
    "        model = xgb.XGBClassifier(\n",
    "            n_estimators=400,\n",
    "            learning_rate=0.05,\n",
    "            max_depth=6,\n",
    "            random_state=42,\n",
    "            eval_metric=\"logloss\",\n",
    "            tree_method=\"hist\",\n",
    "            use_label_encoder=False,\n",
    "        )\n",
    "        model.fit(X_train_enc, y_train[col])\n",
    "        pred_probs = model.predict_proba(X_test_enc)[:, 1]\n",
    "\n",
    "        # Precision@5\n",
    "        top5 = (\n",
    "            pd.Series(pred_probs, index=X_test.index)\n",
    "            .sort_values(ascending=False)\n",
    "            .head(5)\n",
    "        )\n",
    "        precision = y_test.loc[top5.index, col].mean()\n",
    "        precision_folds[col].append(precision)"
   ]
  },
  {
   "cell_type": "code",
   "execution_count": null,
   "id": "dcbf556b",
   "metadata": {},
   "outputs": [],
   "source": [
    "print(\"Средний Precision@5 по фолдам:\")\n",
    "for col in target_cols:\n",
    "    print(f\"{col}: {np.mean(precision_folds[col]):.3f}\")"
   ]
  },
  {
   "cell_type": "code",
   "execution_count": null,
   "id": "8ad3eceb",
   "metadata": {},
   "outputs": [],
   "source": [
    "X_enc = X.copy()\n",
    "for col in cat_cols:\n",
    "    te = TargetEncoder(cols=[col])\n",
    "    te.fit(X[[col]], y.mean(axis=1))\n",
    "    X_enc[col] = te.transform(X[[col]])\n",
    "\n",
    "pred_probs_all = pd.DataFrame(index=df.index)\n",
    "pred_days_all = []\n",
    "\n",
    "threshold = 0.5\n",
    "for col_idx, col in enumerate(target_cols):\n",
    "    model = xgb.XGBClassifier(\n",
    "        n_estimators=400,\n",
    "        learning_rate=0.05,\n",
    "        max_depth=6,\n",
    "        random_state=42,\n",
    "        eval_metric=\"logloss\",\n",
    "        tree_method=\"hist\",\n",
    "        use_label_encoder=False,\n",
    "    )\n",
    "    model.fit(X_enc, y[col])\n",
    "    pred_probs_all[col] = model.predict_proba(X_enc)[:, 1]"
   ]
  },
  {
   "cell_type": "code",
   "execution_count": null,
   "id": "9c5e0f72",
   "metadata": {},
   "outputs": [],
   "source": [
    "for idx, row in pred_probs_all.iterrows():\n",
    "    day = None\n",
    "    for j, col in enumerate(target_cols):\n",
    "        if row[col] >= threshold:\n",
    "            day = days_intervals[j]\n",
    "            break\n",
    "    if day is None:\n",
    "        day = 90\n",
    "    pred_days_all.append(day)"
   ]
  },
  {
   "cell_type": "code",
   "execution_count": null,
   "id": "4602697b",
   "metadata": {},
   "outputs": [],
   "source": [
    "df[\"Pred_DaysUntilNextPurchase\"] = pred_days_all\n",
    "df[\"Pred_NextPurchaseDate\"] = df[\"Date\"] + pd.to_timedelta(\n",
    "    df[\"Pred_DaysUntilNextPurchase\"], unit=\"D\"\n",
    ")\n",
    "\n",
    "comparison_df = pd.DataFrame(\n",
    "    {\n",
    "        \"user_id\": df[\"user_id\"],\n",
    "        \"Pred_DaysUntilNextPurchase\": df[\"Pred_DaysUntilNextPurchase\"],\n",
    "        \"Pred_NextPurchaseDate\": df[\"Pred_NextPurchaseDate\"],\n",
    "    }\n",
    ")"
   ]
  },
  {
   "cell_type": "code",
   "execution_count": null,
   "id": "8a8a871c",
   "metadata": {},
   "outputs": [],
   "source": [
    "for col in target_cols:\n",
    "    comparison_df[f\"true_{col}\"] = y[col].values\n",
    "    comparison_df[f\"pred_{col}\"] = pred_probs_all[col].values\n",
    "\n",
    "print(\"\\nПример сравнения реальных и предсказанных значений:\")\n",
    "comparison_df.head(10)"
   ]
  }
 ],
 "metadata": {
  "kernelspec": {
   "display_name": ".venv",
   "language": "python",
   "name": "python3"
  },
  "language_info": {
   "codemirror_mode": {
    "name": "ipython",
    "version": 3
   },
   "file_extension": ".py",
   "mimetype": "text/x-python",
   "name": "python",
   "nbconvert_exporter": "python",
   "pygments_lexer": "ipython3",
   "version": "3.13.2"
  }
 },
 "nbformat": 4,
 "nbformat_minor": 5
}
