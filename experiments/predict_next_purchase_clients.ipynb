{
 "cells": [
  {
   "cell_type": "code",
   "execution_count": 4,
   "id": "895286fe",
   "metadata": {},
   "outputs": [],
   "source": [
    "import pandas as pd\n",
    "import numpy as np\n",
    "\n",
    "import lightgbm as lgb\n",
    "\n",
    "from category_encoders import TargetEncoder\n",
    "from sklearn.model_selection import TimeSeriesSplit, train_test_split"
   ]
  },
  {
   "cell_type": "code",
   "execution_count": 5,
   "id": "284de537",
   "metadata": {},
   "outputs": [],
   "source": [
    "df = pd.read_csv(\"dataframe/prepared_data_for_predict_next_purchase.csv\")"
   ]
  },
  {
   "cell_type": "code",
   "execution_count": 83,
   "id": "803a1766",
   "metadata": {},
   "outputs": [
    {
     "data": {
      "text/plain": [
       "Index(['user_id', 'countPoints', 'Item', 'Date', 'Price', 'Fromat_Offline',\n",
       "       'Format_Trade_In', 'sertificate_6_months', 'Ag_800', 'Ag_925', 'Au_375',\n",
       "       'Au_585', 'Other_materials', 'Steal_0', 'Jewelry', 'IsHoliday', 'Month',\n",
       "       'Weekday', 'Quarter', 'Month_sin', 'Month_cos', 'Weekday_sin',\n",
       "       'Weekday_cos', 'Quarter_sin', 'Quarter_cos', 'NextPurchaseDate',\n",
       "       'DaysUntilNextPurchase', 'Purchase_in_next_7d', 'Purchase_in_next_14d',\n",
       "       'Purchase_in_next_30d', 'Purchase_in_next_60d', 'Purchase_in_next_90d',\n",
       "       'Price_Segment', 'avg_user_item_interval', 'avg_price', 'total_points',\n",
       "       'purchase_count', 'DaysSinceLastPurchase', 'Item_popularity',\n",
       "       'Days_Since_Last_Purchase', 'Average_Check', 'Price_Preference',\n",
       "       'Category', 'Is_Favorite_Category', 'Category_freq', 'User_Item_Count',\n",
       "       'days_since_last_purchase', 'days_since_last_purchase_avg',\n",
       "       'days_since_last_purchase_max', 'days_since_last_purchase_min'],\n",
       "      dtype='object')"
      ]
     },
     "execution_count": 83,
     "metadata": {},
     "output_type": "execute_result"
    }
   ],
   "source": [
    "df.columns"
   ]
  },
  {
   "cell_type": "code",
   "execution_count": 55,
   "id": "5a19df20",
   "metadata": {},
   "outputs": [
    {
     "name": "stdout",
     "output_type": "stream",
     "text": [
      "Количество покупок в период: 632\n",
      "Количество уникальных пользователей с покупкой в период: 386\n",
      "Пользователи: ['USER_101036' 'USER_101607' 'USER_102762' 'USER_103199' 'USER_107361'\n",
      " 'USER_108620' 'USER_109748' 'USER_113133' 'USER_113999' 'USER_117617'\n",
      " 'USER_118907' 'USER_119220' 'USER_124353' 'USER_125382' 'USER_134524'\n",
      " 'USER_134976' 'USER_137798' 'USER_139406' 'USER_143216' 'USER_144025'\n",
      " 'USER_144890' 'USER_153607' 'USER_156997' 'USER_161851' 'USER_164926'\n",
      " 'USER_166943' 'USER_169066' 'USER_169491' 'USER_170537' 'USER_171309'\n",
      " 'USER_172781' 'USER_174447' 'USER_175558' 'USER_176082' 'USER_176135'\n",
      " 'USER_178771' 'USER_180118' 'USER_189307' 'USER_189396' 'USER_189885'\n",
      " 'USER_191917' 'USER_195107' 'USER_196104' 'USER_197455' 'USER_199478'\n",
      " 'USER_200512' 'USER_202074' 'USER_202401' 'USER_214887' 'USER_215764'\n",
      " 'USER_216954' 'USER_217272' 'USER_219410' 'USER_219720' 'USER_221017'\n",
      " 'USER_224771' 'USER_225121' 'USER_226075' 'USER_226314' 'USER_226707'\n",
      " 'USER_226769' 'USER_227683' 'USER_229383' 'USER_229694' 'USER_231223'\n",
      " 'USER_233252' 'USER_234703' 'USER_236382' 'USER_238299' 'USER_239855'\n",
      " 'USER_240983' 'USER_244457' 'USER_244549' 'USER_253407' 'USER_254011'\n",
      " 'USER_255053' 'USER_259434' 'USER_260306' 'USER_261854' 'USER_263449'\n",
      " 'USER_265722' 'USER_267469' 'USER_272425' 'USER_277443' 'USER_288108'\n",
      " 'USER_295453' 'USER_296699' 'USER_301453' 'USER_307477' 'USER_309360'\n",
      " 'USER_309775' 'USER_311119' 'USER_312374' 'USER_316348' 'USER_320261'\n",
      " 'USER_322098' 'USER_326921' 'USER_327096' 'USER_332283' 'USER_334170'\n",
      " 'USER_335914' 'USER_336354' 'USER_337506' 'USER_337983' 'USER_340662'\n",
      " 'USER_341799' 'USER_344122' 'USER_344259' 'USER_346560' 'USER_349430'\n",
      " 'USER_349797' 'USER_352274' 'USER_354984' 'USER_355908' 'USER_356926'\n",
      " 'USER_359924' 'USER_360555' 'USER_364322' 'USER_364412' 'USER_365349'\n",
      " 'USER_365764' 'USER_365824' 'USER_365846' 'USER_365854' 'USER_367989'\n",
      " 'USER_368175' 'USER_368256' 'USER_372962' 'USER_378745' 'USER_379588'\n",
      " 'USER_380886' 'USER_391624' 'USER_397375' 'USER_397681' 'USER_399729'\n",
      " 'USER_399895' 'USER_401488' 'USER_402094' 'USER_402246' 'USER_405653'\n",
      " 'USER_411246' 'USER_411555' 'USER_412002' 'USER_412943' 'USER_413734'\n",
      " 'USER_422987' 'USER_423530' 'USER_428712' 'USER_429263' 'USER_435629'\n",
      " 'USER_435712' 'USER_438582' 'USER_442357' 'USER_444843' 'USER_448222'\n",
      " 'USER_451012' 'USER_452018' 'USER_453775' 'USER_455152' 'USER_458958'\n",
      " 'USER_460450' 'USER_462868' 'USER_463244' 'USER_463668' 'USER_474740'\n",
      " 'USER_476444' 'USER_478348' 'USER_479583' 'USER_483433' 'USER_486151'\n",
      " 'USER_492948' 'USER_499385' 'USER_499584' 'USER_501278' 'USER_504161'\n",
      " 'USER_505479' 'USER_507642' 'USER_508456' 'USER_509928' 'USER_510086'\n",
      " 'USER_511203' 'USER_511689' 'USER_515632' 'USER_516719' 'USER_520832'\n",
      " 'USER_523548' 'USER_528021' 'USER_530377' 'USER_530623' 'USER_531941'\n",
      " 'USER_534927' 'USER_544699' 'USER_549639' 'USER_550301' 'USER_554836'\n",
      " 'USER_559396' 'USER_560902' 'USER_561241' 'USER_564804' 'USER_573338'\n",
      " 'USER_579736' 'USER_581323' 'USER_584232' 'USER_584777' 'USER_586358'\n",
      " 'USER_586598' 'USER_587087' 'USER_587263' 'USER_587880' 'USER_587949'\n",
      " 'USER_594559' 'USER_598870' 'USER_599193' 'USER_600027' 'USER_600951'\n",
      " 'USER_601651' 'USER_606209' 'USER_606504' 'USER_608759' 'USER_617902'\n",
      " 'USER_623169' 'USER_628249' 'USER_629872' 'USER_632687' 'USER_635822'\n",
      " 'USER_644811' 'USER_645436' 'USER_645438' 'USER_645797' 'USER_647567'\n",
      " 'USER_649935' 'USER_654535' 'USER_654845' 'USER_662909' 'USER_666323'\n",
      " 'USER_667050' 'USER_667753' 'USER_667769' 'USER_669190' 'USER_669356'\n",
      " 'USER_670578' 'USER_670645' 'USER_674977' 'USER_677725' 'USER_678400'\n",
      " 'USER_682734' 'USER_687236' 'USER_692474' 'USER_694508' 'USER_697609'\n",
      " 'USER_699468' 'USER_699878' 'USER_700663' 'USER_702472' 'USER_704227'\n",
      " 'USER_711205' 'USER_713413' 'USER_715602' 'USER_716649' 'USER_724109'\n",
      " 'USER_725990' 'USER_726984' 'USER_729111' 'USER_731374' 'USER_733966'\n",
      " 'USER_735109' 'USER_735850' 'USER_737361' 'USER_742752' 'USER_746303'\n",
      " 'USER_747408' 'USER_748870' 'USER_750552' 'USER_751036' 'USER_751097'\n",
      " 'USER_753057' 'USER_755794' 'USER_758645' 'USER_763003' 'USER_766058'\n",
      " 'USER_767667' 'USER_768217' 'USER_770048' 'USER_770108' 'USER_770154'\n",
      " 'USER_771373' 'USER_771624' 'USER_773057' 'USER_777864' 'USER_779735'\n",
      " 'USER_781695' 'USER_782017' 'USER_784094' 'USER_784524' 'USER_784871'\n",
      " 'USER_786263' 'USER_789688' 'USER_790797' 'USER_791136' 'USER_791336'\n",
      " 'USER_793941' 'USER_794820' 'USER_802580' 'USER_804132' 'USER_804277'\n",
      " 'USER_806271' 'USER_806550' 'USER_807641' 'USER_810484' 'USER_813863'\n",
      " 'USER_815260' 'USER_817348' 'USER_818332' 'USER_822026' 'USER_823685'\n",
      " 'USER_827090' 'USER_829682' 'USER_833942' 'USER_844575' 'USER_846199'\n",
      " 'USER_853400' 'USER_853532' 'USER_853547' 'USER_854309' 'USER_859325'\n",
      " 'USER_860399' 'USER_862239' 'USER_863263' 'USER_863595' 'USER_867126'\n",
      " 'USER_868939' 'USER_869930' 'USER_872368' 'USER_872402' 'USER_872707'\n",
      " 'USER_872919' 'USER_873309' 'USER_875417' 'USER_875473' 'USER_879358'\n",
      " 'USER_884398' 'USER_885442' 'USER_886256' 'USER_891168' 'USER_895672'\n",
      " 'USER_897639' 'USER_900409' 'USER_903935' 'USER_905592' 'USER_912641'\n",
      " 'USER_912643' 'USER_913480' 'USER_914078' 'USER_916205' 'USER_916747'\n",
      " 'USER_926558' 'USER_927548' 'USER_933330' 'USER_934766' 'USER_935442'\n",
      " 'USER_946534' 'USER_948759' 'USER_950378' 'USER_951456' 'USER_951875'\n",
      " 'USER_954104' 'USER_955410' 'USER_959510' 'USER_967021' 'USER_973572'\n",
      " 'USER_975235' 'USER_976628' 'USER_978295' 'USER_979200' 'USER_980196'\n",
      " 'USER_986969' 'USER_990121' 'USER_990387' 'USER_991063' 'USER_993099'\n",
      " 'USER_993683' 'USER_994224' 'USER_996395' 'USER_996546' 'USER_997508'\n",
      " 'USER_999128']\n"
     ]
    }
   ],
   "source": [
    "df[\"Date\"] = pd.to_datetime(df[\"Date\"])\n",
    "df = df.dropna(subset=[\"Date\"])\n",
    "\n",
    "start_date = pd.to_datetime(\"2025-10-01\")\n",
    "end_date = pd.to_datetime(\"2025-10-10\")\n",
    "\n",
    "period_df = df[(df[\"Date\"] >= start_date) & (df[\"Date\"] <= end_date)]\n",
    "\n",
    "print(\"Количество покупок в период:\", len(period_df))\n",
    "\n",
    "unique_users = period_df[\"user_id\"].nunique()\n",
    "print(\"Количество уникальных пользователей с покупкой в период:\", unique_users)\n",
    "\n",
    "print(\"Пользователи:\", period_df[\"user_id\"].unique())"
   ]
  },
  {
   "cell_type": "markdown",
   "id": "7ec5a78e",
   "metadata": {},
   "source": [
    "## Проверка на уже известных данных, для проверки правильности работы модели"
   ]
  },
  {
   "cell_type": "code",
   "execution_count": null,
   "id": "da7d19d3",
   "metadata": {},
   "outputs": [],
   "source": [
    "df[\"Date\"] = pd.to_datetime(df[\"Date\"])\n",
    "df = df.dropna(subset=[\"Date\"])"
   ]
  },
  {
   "cell_type": "code",
   "execution_count": null,
   "id": "801abe45",
   "metadata": {},
   "outputs": [],
   "source": [
    "train_end = pd.Timestamp(\"2025-06-30\")\n",
    "test_start = train_end + pd.Timedelta(days=1)\n",
    "test_end = pd.Timestamp(\"2025-09-30\")"
   ]
  },
  {
   "cell_type": "code",
   "execution_count": null,
   "id": "7808aea9",
   "metadata": {},
   "outputs": [],
   "source": [
    "train_df = df[df[\"Date\"] <= train_end].copy()\n",
    "test_df = df[(df[\"Date\"] >= test_start) & (df[\"Date\"] <= test_end)].copy()"
   ]
  },
  {
   "cell_type": "code",
   "execution_count": null,
   "id": "71a6776c",
   "metadata": {},
   "outputs": [],
   "source": [
    "target_users = test_df[\"user_id\"].unique()\n",
    "print(f\"Количество пользователей с покупкой в тестовом периоде: {len(target_users)}\")"
   ]
  },
  {
   "cell_type": "code",
   "execution_count": null,
   "id": "6564a434",
   "metadata": {},
   "outputs": [],
   "source": [
    "num_cols = [\n",
    "    \"countPoints\",\n",
    "    \"Price\",\n",
    "    \"DaysUntilNextPurchase\",\n",
    "    \"avg_user_item_interval\",\n",
    "    \"avg_price\",\n",
    "    \"total_points\",\n",
    "    \"purchase_count\",\n",
    "    \"DaysSinceLastPurchase\",\n",
    "    \"Item_popularity\",\n",
    "    \"Average_Check\",\n",
    "    \"Category_freq\",\n",
    "    \"User_Item_Count\",\n",
    "    \"days_since_last_purchase_avg\",\n",
    "    \"days_since_last_purchase_max\",\n",
    "    \"days_since_last_purchase_min\",\n",
    "]\n",
    "\n",
    "cat_cols = [\"Item\", \"Category\", \"Is_Favorite_Category\", \"Price_Segment\"]"
   ]
  },
  {
   "cell_type": "code",
   "execution_count": null,
   "id": "97cf30bf",
   "metadata": {},
   "outputs": [],
   "source": [
    "user_features = train_df.groupby(\"user_id\")[num_cols].mean().reset_index()\n",
    "for c in cat_cols:\n",
    "    user_features[c] = train_df.groupby(\"user_id\")[c].last().values\n",
    "\n",
    "user_features[\"target\"] = user_features[\"user_id\"].isin(target_users).astype(int)"
   ]
  },
  {
   "cell_type": "code",
   "execution_count": null,
   "id": "63cabb64",
   "metadata": {},
   "outputs": [],
   "source": [
    "X = user_features[num_cols + cat_cols]\n",
    "y = user_features[\"target\"]\n",
    "\n",
    "te = TargetEncoder(cols=cat_cols)\n",
    "X[cat_cols] = te.fit_transform(X[cat_cols], y)"
   ]
  },
  {
   "cell_type": "code",
   "execution_count": null,
   "id": "dd08996c",
   "metadata": {},
   "outputs": [],
   "source": [
    "tscv = TimeSeriesSplit(n_splits=3)\n",
    "for fold, (train_idx, val_idx) in enumerate(tscv.split(X)):\n",
    "    print(f\"\\n===== Fold {fold+1} =====\")\n",
    "    X_train, X_val = X.iloc[train_idx], X.iloc[val_idx]\n",
    "    y_train, y_val = y.iloc[train_idx], y.iloc[val_idx]\n",
    "\n",
    "    scale_pos_weight = y_train.value_counts()[0] / y_train.value_counts()[1]\n",
    "\n",
    "    params = {\n",
    "        \"objective\": \"binary\",\n",
    "        \"metric\": \"binary_logloss\",\n",
    "        \"boosting_type\": \"gbdt\",\n",
    "        \"learning_rate\": 0.05,\n",
    "        \"feature_fraction\": 0.8,\n",
    "        \"bagging_fraction\": 0.8,\n",
    "        \"bagging_freq\": 5,\n",
    "        \"seed\": 42,\n",
    "        \"scale_pos_weight\": scale_pos_weight,\n",
    "    }\n",
    "\n",
    "    lgb_train = lgb.Dataset(X_train, label=y_train)\n",
    "    lgb_val = lgb.Dataset(X_val, label=y_val)\n",
    "\n",
    "    model = lgb.train(\n",
    "        params,\n",
    "        lgb_train,\n",
    "        valid_sets=[lgb_val],\n",
    "        num_boost_round=300,\n",
    "    )\n",
    "\n",
    "    y_pred_val = model.predict(X_val)\n",
    "    df_val = pd.DataFrame(\n",
    "        {\n",
    "            \"user_id\": user_features.iloc[val_idx][\"user_id\"],\n",
    "            \"pred_prob\": y_pred_val,\n",
    "            \"target\": y_val,\n",
    "        }\n",
    "    )"
   ]
  },
  {
   "cell_type": "code",
   "execution_count": null,
   "id": "0f6df010",
   "metadata": {},
   "outputs": [],
   "source": [
    "def precision_at_k(df, k=5):\n",
    "    return df.head(k)[\"target\"].sum() / k\n",
    "\n",
    "def hit_rate_at_k(df, k=10):\n",
    "    return 1.0 if df.head(k)[\"target\"].sum() > 0 else 0.0"
   ]
  },
  {
   "cell_type": "code",
   "execution_count": null,
   "id": "d29ff38e",
   "metadata": {},
   "outputs": [
    {
     "name": "stdout",
     "output_type": "stream",
     "text": [
      "Количество пользователей с покупкой в тестовом периоде: 5141\n",
      "\n",
      "===== Fold 1 =====\n",
      "[LightGBM] [Info] Number of positive: 266, number of negative: 3155\n",
      "[LightGBM] [Info] Auto-choosing col-wise multi-threading, the overhead of testing was 0.000820 seconds.\n",
      "You can set `force_col_wise=true` to remove the overhead.\n",
      "[LightGBM] [Info] Total Bins 2818\n",
      "[LightGBM] [Info] Number of data points in the train set: 3421, number of used features: 19\n",
      "[LightGBM] [Info] [binary:BoostFromScore]: pavg=0.077755 -> initscore=-2.473247\n",
      "[LightGBM] [Info] Start training from score -2.473247\n",
      "[LightGBM] [Warning] No further splits with positive gain, best gain: -inf\n",
      "[LightGBM] [Warning] No further splits with positive gain, best gain: -inf\n",
      "[LightGBM] [Warning] No further splits with positive gain, best gain: -inf\n",
      "[LightGBM] [Warning] No further splits with positive gain, best gain: -inf\n"
     ]
    },
    {
     "name": "stderr",
     "output_type": "stream",
     "text": [
      "C:\\Users\\arnur\\AppData\\Local\\Temp\\ipykernel_27580\\4077422599.py:68: SettingWithCopyWarning: \n",
      "A value is trying to be set on a copy of a slice from a DataFrame.\n",
      "Try using .loc[row_indexer,col_indexer] = value instead\n",
      "\n",
      "See the caveats in the documentation: https://pandas.pydata.org/pandas-docs/stable/user_guide/indexing.html#returning-a-view-versus-a-copy\n",
      "  X[cat_cols] = te.fit_transform(X[cat_cols], y)\n"
     ]
    },
    {
     "name": "stdout",
     "output_type": "stream",
     "text": [
      "Precision@5: 1.000\n",
      "Precision@10: 1.000\n",
      "HitRate@10: 1.000\n",
      "\n",
      "===== Fold 2 =====\n",
      "[LightGBM] [Info] Number of positive: 541, number of negative: 6300\n",
      "[LightGBM] [Info] Auto-choosing col-wise multi-threading, the overhead of testing was 0.002320 seconds.\n",
      "You can set `force_col_wise=true` to remove the overhead.\n",
      "[LightGBM] [Info] Total Bins 3194\n",
      "[LightGBM] [Info] Number of data points in the train set: 6841, number of used features: 19\n",
      "[LightGBM] [Info] [binary:BoostFromScore]: pavg=0.079082 -> initscore=-2.454886\n",
      "[LightGBM] [Info] Start training from score -2.454886\n",
      "Precision@5: 1.000\n",
      "Precision@10: 1.000\n",
      "HitRate@10: 1.000\n",
      "\n",
      "===== Fold 3 =====\n",
      "[LightGBM] [Info] Number of positive: 785, number of negative: 9476\n",
      "[LightGBM] [Info] Auto-choosing col-wise multi-threading, the overhead of testing was 0.002078 seconds.\n",
      "You can set `force_col_wise=true` to remove the overhead.\n",
      "[LightGBM] [Info] Total Bins 3227\n",
      "[LightGBM] [Info] Number of data points in the train set: 10261, number of used features: 19\n",
      "[LightGBM] [Info] [binary:BoostFromScore]: pavg=0.076503 -> initscore=-2.490834\n",
      "[LightGBM] [Info] Start training from score -2.490834\n",
      "Precision@5: 1.000\n",
      "Precision@10: 1.000\n",
      "HitRate@10: 1.000\n",
      "[LightGBM] [Info] Number of positive: 1044, number of negative: 12637\n",
      "[LightGBM] [Info] Auto-choosing row-wise multi-threading, the overhead of testing was 0.001176 seconds.\n",
      "You can set `force_row_wise=true` to remove the overhead.\n",
      "And if memory is not enough, you can set `force_col_wise=true`.\n",
      "[LightGBM] [Info] Total Bins 3253\n",
      "[LightGBM] [Info] Number of data points in the train set: 13681, number of used features: 19\n",
      "[LightGBM] [Info] [binary:BoostFromScore]: pavg=0.076310 -> initscore=-2.493570\n",
      "[LightGBM] [Info] Start training from score -2.493570\n",
      "\n",
      "===== Финальные метрики =====\n",
      "Precision@5: 1.000\n",
      "Precision@10: 1.000\n",
      "HitRate@10: 1.000\n",
      "\n",
      "Топ-20 клиентов с наибольшей вероятностью покупки:\n",
      "        user_id  pred_prob  target\n",
      "0   USER_553339   0.999963       1\n",
      "1   USER_322991   0.999959       1\n",
      "2   USER_832161   0.999955       1\n",
      "3   USER_103199   0.999952       1\n",
      "4   USER_829525   0.999951       1\n",
      "5   USER_505198   0.999950       1\n",
      "6   USER_542918   0.999948       1\n",
      "7   USER_238051   0.999945       1\n",
      "8   USER_861309   0.999938       1\n",
      "9   USER_868094   0.999935       1\n",
      "10  USER_546445   0.999935       1\n",
      "11  USER_244457   0.999931       1\n",
      "12  USER_970091   0.999926       1\n",
      "13  USER_507201   0.999925       1\n",
      "14  USER_309533   0.999925       1\n",
      "15  USER_336821   0.999921       1\n",
      "16  USER_167493   0.999921       1\n",
      "17  USER_564330   0.999920       1\n",
      "18  USER_701270   0.999918       1\n",
      "19  USER_604684   0.999914       1\n"
     ]
    }
   ],
   "source": [
    "df_val = df_val.sort_values(\"pred_prob\", ascending=False).reset_index(drop=True)\n",
    "p5 = precision_at_k(df_val, 5)\n",
    "p10 = precision_at_k(df_val, 10)\n",
    "hr10 = hit_rate_at_k(df_val, 10)\n",
    "\n",
    "print(f\"Precision@5: {p5:.3f}\")\n",
    "print(f\"Precision@10: {p10:.3f}\")\n",
    "print(f\"HitRate@10: {hr10:.3f}\")\n",
    "\n",
    "final_model = lgb.train(params, lgb.Dataset(X, label=y), num_boost_round=300)\n",
    "user_features[\"pred_prob\"] = final_model.predict(X)\n",
    "\n",
    "df_eval = user_features[[\"user_id\", \"pred_prob\", \"target\"]].copy()\n",
    "df_eval = df_eval.sort_values(\"pred_prob\", ascending=False).reset_index(drop=True)\n",
    "\n",
    "p5 = df_eval.head(5)[\"target\"].sum() / 5\n",
    "p10 = df_eval.head(10)[\"target\"].sum() / 10\n",
    "hr10 = 1.0 if df_eval.head(10)[\"target\"].sum() > 0 else 0.0\n",
    "\n",
    "print(\"\\n===== Финальные метрики =====\")\n",
    "print(f\"Precision@5: {p5:.3f}\")\n",
    "print(f\"Precision@10: {p10:.3f}\")\n",
    "print(f\"HitRate@10: {hr10:.3f}\")\n",
    "\n",
    "print(\"\\nТоп-20 клиентов с наибольшей вероятностью покупки:\")\n",
    "print(df_eval.head(20))"
   ]
  },
  {
   "cell_type": "markdown",
   "id": "09062115",
   "metadata": {},
   "source": [
    "## Предикты с 11 октября по сегодшний день (26 октября)"
   ]
  },
  {
   "cell_type": "code",
   "execution_count": 7,
   "id": "814d4474",
   "metadata": {},
   "outputs": [],
   "source": [
    "df = pd.read_csv(\"dataframe/prepared_data_for_predict_next_purchase.csv\")"
   ]
  },
  {
   "cell_type": "code",
   "execution_count": 8,
   "id": "ef8a79fc",
   "metadata": {},
   "outputs": [],
   "source": [
    "df[\"Date\"] = pd.to_datetime(df[\"Date\"])\n",
    "df = df.dropna(subset=[\"Date\"])"
   ]
  },
  {
   "cell_type": "code",
   "execution_count": 9,
   "id": "6ba6955e",
   "metadata": {},
   "outputs": [],
   "source": [
    "train_end = pd.Timestamp(\"2025-06-30\")\n",
    "test_start = train_end + pd.Timedelta(days=1)\n",
    "test_end = pd.Timestamp(\"2025-09-30\")"
   ]
  },
  {
   "cell_type": "code",
   "execution_count": 10,
   "id": "a9b7a15e",
   "metadata": {},
   "outputs": [
    {
     "name": "stdout",
     "output_type": "stream",
     "text": [
      "Количество пользователей с покупкой в тестовом периоде: 5141\n"
     ]
    }
   ],
   "source": [
    "train_df = df[df[\"Date\"] <= train_end].copy()\n",
    "test_df = df[(df[\"Date\"] >= test_start) & (df[\"Date\"] <= test_end)].copy()\n",
    "\n",
    "target_users = test_df[\"user_id\"].unique()\n",
    "print(f\"Количество пользователей с покупкой в тестовом периоде: {len(target_users)}\")"
   ]
  },
  {
   "cell_type": "code",
   "execution_count": 11,
   "id": "c3335514",
   "metadata": {},
   "outputs": [],
   "source": [
    "num_cols = [\n",
    "    \"countPoints\",\n",
    "    \"Price\",\n",
    "    \"DaysUntilNextPurchase\",\n",
    "    \"avg_user_item_interval\",\n",
    "    \"avg_price\",\n",
    "    \"total_points\",\n",
    "    \"purchase_count\",\n",
    "    \"DaysSinceLastPurchase\",\n",
    "    \"Item_popularity\",\n",
    "    \"Average_Check\",\n",
    "    \"Category_freq\",\n",
    "    \"User_Item_Count\",\n",
    "    \"days_since_last_purchase_avg\",\n",
    "    \"days_since_last_purchase_max\",\n",
    "    \"days_since_last_purchase_min\",\n",
    "]\n",
    "\n",
    "cat_cols = [\"Item\", \"Category\", \"Is_Favorite_Category\", \"Price_Segment\"]"
   ]
  },
  {
   "cell_type": "code",
   "execution_count": 12,
   "id": "45a4e452",
   "metadata": {},
   "outputs": [],
   "source": [
    "user_features = train_df.groupby(\"user_id\")[num_cols].mean().reset_index()\n",
    "for c in cat_cols:\n",
    "    user_features[c] = train_df.groupby(\"user_id\")[c].last().values\n",
    "\n",
    "user_features[\"target\"] = user_features[\"user_id\"].isin(target_users).astype(int)"
   ]
  },
  {
   "cell_type": "code",
   "execution_count": 13,
   "id": "76130295",
   "metadata": {},
   "outputs": [
    {
     "name": "stderr",
     "output_type": "stream",
     "text": [
      "C:\\Users\\arnur\\AppData\\Local\\Temp\\ipykernel_11688\\2824268193.py:5: SettingWithCopyWarning: \n",
      "A value is trying to be set on a copy of a slice from a DataFrame.\n",
      "Try using .loc[row_indexer,col_indexer] = value instead\n",
      "\n",
      "See the caveats in the documentation: https://pandas.pydata.org/pandas-docs/stable/user_guide/indexing.html#returning-a-view-versus-a-copy\n",
      "  X[cat_cols] = te.fit_transform(X[cat_cols], y)\n"
     ]
    }
   ],
   "source": [
    "X = user_features[num_cols + cat_cols]\n",
    "y = user_features[\"target\"]\n",
    "\n",
    "te = TargetEncoder(cols=cat_cols)\n",
    "X[cat_cols] = te.fit_transform(X[cat_cols], y)\n",
    "\n",
    "X_train, X_val, y_train, y_val = train_test_split(\n",
    "    X, y, test_size=0.2, stratify=y, random_state=42\n",
    ")"
   ]
  },
  {
   "cell_type": "code",
   "execution_count": 14,
   "id": "2e343a2c",
   "metadata": {},
   "outputs": [],
   "source": [
    "scale_pos_weight = y_train.value_counts()[0] / y_train.value_counts()[1]"
   ]
  },
  {
   "cell_type": "code",
   "execution_count": 15,
   "id": "caa6ecf8",
   "metadata": {},
   "outputs": [],
   "source": [
    "params = {\n",
    "    \"objective\": \"binary\",\n",
    "    \"metric\": \"binary_logloss\",\n",
    "    \"boosting_type\": \"gbdt\",\n",
    "    \"learning_rate\": 0.05,\n",
    "    \"feature_fraction\": 0.8,\n",
    "    \"bagging_fraction\": 0.8,\n",
    "    \"bagging_freq\": 5,\n",
    "    \"seed\": 42,\n",
    "    \"scale_pos_weight\": scale_pos_weight,\n",
    "}\n",
    "\n",
    "lgb_train = lgb.Dataset(X_train, label=y_train)\n",
    "lgb_val = lgb.Dataset(X_val, label=y_val)"
   ]
  },
  {
   "cell_type": "code",
   "execution_count": 16,
   "id": "03b83716",
   "metadata": {},
   "outputs": [
    {
     "name": "stdout",
     "output_type": "stream",
     "text": [
      "[LightGBM] [Info] Number of positive: 835, number of negative: 10109\n",
      "[LightGBM] [Info] Auto-choosing row-wise multi-threading, the overhead of testing was 0.000733 seconds.\n",
      "You can set `force_row_wise=true` to remove the overhead.\n",
      "And if memory is not enough, you can set `force_col_wise=true`.\n",
      "[LightGBM] [Info] Total Bins 3232\n",
      "[LightGBM] [Info] Number of data points in the train set: 10944, number of used features: 19\n",
      "[LightGBM] [Info] [binary:BoostFromScore]: pavg=0.076298 -> initscore=-2.493750\n",
      "[LightGBM] [Info] Start training from score -2.493750\n"
     ]
    }
   ],
   "source": [
    "model = lgb.train(\n",
    "    params,\n",
    "    lgb_train,\n",
    "    valid_sets=[lgb_val],\n",
    "    num_boost_round=300,\n",
    ")"
   ]
  },
  {
   "cell_type": "code",
   "execution_count": 17,
   "id": "e876f6ae",
   "metadata": {},
   "outputs": [
    {
     "name": "stdout",
     "output_type": "stream",
     "text": [
      "Количество предсказанных пользователей: 212\n"
     ]
    }
   ],
   "source": [
    "y_pred_val = model.predict(X_val)\n",
    "df_val = pd.DataFrame(\n",
    "    {\n",
    "        \"user_id\": user_features.iloc[y_val.index][\"user_id\"],\n",
    "        \"pred_prob\": y_pred_val,\n",
    "        \"target\": y_val,\n",
    "    }\n",
    ")\n",
    "\n",
    "threshold = 0.7\n",
    "predicted_users = df_val[df_val[\"pred_prob\"] >= threshold][\n",
    "    [\"user_id\", \"pred_prob\"]\n",
    "].sort_values(\"pred_prob\", ascending=False)\n",
    "predicted_users.to_csv(\"predicted_users.csv\", index=False)\n",
    "print(f\"Количество предсказанных пользователей: {len(predicted_users)}\")"
   ]
  }
 ],
 "metadata": {
  "kernelspec": {
   "display_name": ".venv",
   "language": "python",
   "name": "python3"
  },
  "language_info": {
   "codemirror_mode": {
    "name": "ipython",
    "version": 3
   },
   "file_extension": ".py",
   "mimetype": "text/x-python",
   "name": "python",
   "nbconvert_exporter": "python",
   "pygments_lexer": "ipython3",
   "version": "3.13.2"
  }
 },
 "nbformat": 4,
 "nbformat_minor": 5
}
