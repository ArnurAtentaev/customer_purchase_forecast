{
 "cells": [
  {
   "cell_type": "markdown",
   "id": "8f640f46",
   "metadata": {},
   "source": [
    "# Подготовка данных"
   ]
  },
  {
   "cell_type": "code",
   "execution_count": 34,
   "id": "6d936e29",
   "metadata": {},
   "outputs": [],
   "source": [
    "import re\n",
    "\n",
    "import pandas as pd\n",
    "\n",
    "import matplotlib.pyplot as plt\n",
    "import seaborn as sns\n",
    "\n",
    "from sklearn.preprocessing import OneHotEncoder"
   ]
  },
  {
   "cell_type": "markdown",
   "id": "71b0a21b",
   "metadata": {},
   "source": [
    "## Загрузка данных"
   ]
  },
  {
   "cell_type": "code",
   "execution_count": 119,
   "id": "8a16aa3d",
   "metadata": {},
   "outputs": [],
   "source": [
    "dataframe = pd.read_csv(\"../data_anonymized_with_user_ids.csv\")"
   ]
  },
  {
   "cell_type": "code",
   "execution_count": null,
   "id": "91bf576c",
   "metadata": {},
   "outputs": [],
   "source": [
    "dataframe.head()"
   ]
  },
  {
   "cell_type": "code",
   "execution_count": null,
   "id": "da5015f6",
   "metadata": {},
   "outputs": [],
   "source": [
    "dataframe.info()"
   ]
  },
  {
   "cell_type": "code",
   "execution_count": 120,
   "id": "811e2c3c",
   "metadata": {},
   "outputs": [
    {
     "name": "stdout",
     "output_type": "stream",
     "text": [
      "['Оффлайн' 'Трейд Ин']\n",
      "['АСТАНА']\n"
     ]
    }
   ],
   "source": [
    "print(dataframe[\"Format\"].unique())\n",
    "print(dataframe[\"town\"].unique())"
   ]
  },
  {
   "cell_type": "code",
   "execution_count": 121,
   "id": "22712ac2",
   "metadata": {},
   "outputs": [
    {
     "data": {
      "text/html": [
       "<div>\n",
       "<style scoped>\n",
       "    .dataframe tbody tr th:only-of-type {\n",
       "        vertical-align: middle;\n",
       "    }\n",
       "\n",
       "    .dataframe tbody tr th {\n",
       "        vertical-align: top;\n",
       "    }\n",
       "\n",
       "    .dataframe thead th {\n",
       "        text-align: right;\n",
       "    }\n",
       "</style>\n",
       "<table border=\"1\" class=\"dataframe\">\n",
       "  <thead>\n",
       "    <tr style=\"text-align: right;\">\n",
       "      <th></th>\n",
       "      <th>user_id</th>\n",
       "      <th>countPoints</th>\n",
       "      <th>Item</th>\n",
       "      <th>Date</th>\n",
       "      <th>Price</th>\n",
       "      <th>Format</th>\n",
       "    </tr>\n",
       "  </thead>\n",
       "  <tbody>\n",
       "    <tr>\n",
       "      <th>0</th>\n",
       "      <td>USER_923730</td>\n",
       "      <td>335</td>\n",
       "      <td>94140036 Серьги (Ag 925)</td>\n",
       "      <td>2024-09-25</td>\n",
       "      <td>28 000</td>\n",
       "      <td>Оффлайн</td>\n",
       "    </tr>\n",
       "    <tr>\n",
       "      <th>1</th>\n",
       "      <td>USER_923730</td>\n",
       "      <td>335</td>\n",
       "      <td>94020535 Серьги (Ag 925)</td>\n",
       "      <td>2024-09-25</td>\n",
       "      <td>11 199</td>\n",
       "      <td>Оффлайн</td>\n",
       "    </tr>\n",
       "    <tr>\n",
       "      <th>2</th>\n",
       "      <td>USER_215040</td>\n",
       "      <td>655</td>\n",
       "      <td>94026740 Серьги (Ag 925)</td>\n",
       "      <td>2024-11-14</td>\n",
       "      <td>21 860</td>\n",
       "      <td>Оффлайн</td>\n",
       "    </tr>\n",
       "    <tr>\n",
       "      <th>3</th>\n",
       "      <td>USER_313086</td>\n",
       "      <td>378</td>\n",
       "      <td>10-0179_ам_175 Кольцо (Ag 925)</td>\n",
       "      <td>2024-06-21</td>\n",
       "      <td>4 511</td>\n",
       "      <td>Оффлайн</td>\n",
       "    </tr>\n",
       "    <tr>\n",
       "      <th>4</th>\n",
       "      <td>USER_313086</td>\n",
       "      <td>378</td>\n",
       "      <td>11-0075_АМ Серьги (Ag 925)</td>\n",
       "      <td>2024-06-21</td>\n",
       "      <td>7 088</td>\n",
       "      <td>Оффлайн</td>\n",
       "    </tr>\n",
       "  </tbody>\n",
       "</table>\n",
       "</div>"
      ],
      "text/plain": [
       "       user_id countPoints                            Item        Date  \\\n",
       "0  USER_923730         335        94140036 Серьги (Ag 925)  2024-09-25   \n",
       "1  USER_923730         335        94020535 Серьги (Ag 925)  2024-09-25   \n",
       "2  USER_215040         655        94026740 Серьги (Ag 925)  2024-11-14   \n",
       "3  USER_313086         378  10-0179_ам_175 Кольцо (Ag 925)  2024-06-21   \n",
       "4  USER_313086         378      11-0075_АМ Серьги (Ag 925)  2024-06-21   \n",
       "\n",
       "    Price   Format  \n",
       "0  28 000  Оффлайн  \n",
       "1  11 199  Оффлайн  \n",
       "2  21 860  Оффлайн  \n",
       "3   4 511  Оффлайн  \n",
       "4   7 088  Оффлайн  "
      ]
     },
     "execution_count": 121,
     "metadata": {},
     "output_type": "execute_result"
    }
   ],
   "source": [
    "dataframe = dataframe.drop(columns=[\"FirstName\"])\n",
    "dataframe = dataframe.drop(columns=[\"town\"])\n",
    "dataframe = dataframe.drop(columns=[\"FullName\"])\n",
    "dataframe.head()"
   ]
  },
  {
   "cell_type": "markdown",
   "id": "69ec699a",
   "metadata": {},
   "source": [
    "## Кодирование колонки Format"
   ]
  },
  {
   "cell_type": "code",
   "execution_count": 122,
   "id": "f07030be",
   "metadata": {},
   "outputs": [],
   "source": [
    "one_hot_enc = OneHotEncoder(sparse_output=False)\n",
    "encoded_array = one_hot_enc.fit_transform(dataframe[[\"Format\"]])\n",
    "\n",
    "encoded_df = pd.DataFrame(\n",
    "    encoded_array, columns=one_hot_enc.get_feature_names_out([\"Format\"])\n",
    ")\n",
    "dataframe = pd.concat([dataframe.drop(columns=[\"Format\"]), encoded_df], axis=1)"
   ]
  },
  {
   "cell_type": "code",
   "execution_count": 123,
   "id": "3822fb6a",
   "metadata": {},
   "outputs": [],
   "source": [
    "dataframe.rename(\n",
    "    columns={\"Format_Оффлайн\": \"Fromat_Offline\", \"Format_Трейд Ин\": \"Format_Trade_In\"},\n",
    "    inplace=True,\n",
    ")"
   ]
  },
  {
   "cell_type": "markdown",
   "id": "f38888d1",
   "metadata": {},
   "source": [
    "## Перевод колонок в тип int"
   ]
  },
  {
   "cell_type": "code",
   "execution_count": 124,
   "id": "c3fa35da",
   "metadata": {},
   "outputs": [],
   "source": [
    "dataframe[\"Price\"] = dataframe[\"Price\"].apply(\n",
    "    lambda p: int(\"\".join(filter(str.isdigit, p))) if not p.isnumeric() else int(p)\n",
    ")\n",
    "dataframe[\"countPoints\"] = dataframe[\"countPoints\"].apply(\n",
    "    lambda p: int(\"\".join(filter(str.isdigit, p))) if not p.isnumeric() else int(p)\n",
    ")"
   ]
  },
  {
   "cell_type": "code",
   "execution_count": 125,
   "id": "45249eb9",
   "metadata": {},
   "outputs": [
    {
     "data": {
      "text/plain": [
       "array(['94140036 Серьги (Ag 925)', '94020535 Серьги (Ag 925)',\n",
       "       '94026740 Серьги (Ag 925)', ..., '94026865 Серьги (Ag 925)',\n",
       "       '94071056_40 Колье (Ag 925)', 'LUC013 Подвеска (Au 585)'],\n",
       "      shape=(17768,), dtype=object)"
      ]
     },
     "execution_count": 125,
     "metadata": {},
     "output_type": "execute_result"
    }
   ],
   "source": [
    "dataframe[\"Item\"].unique()"
   ]
  },
  {
   "cell_type": "markdown",
   "id": "02128d64",
   "metadata": {},
   "source": [
    "## Удаление лишних символов у товаров"
   ]
  },
  {
   "cell_type": "code",
   "execution_count": 128,
   "id": "5762dffc",
   "metadata": {},
   "outputs": [],
   "source": [
    "products_type = [\n",
    "    \"Серьги\", \"Серьга\", \"Кольцо\", \"Обручальное кольцо\", \"Цепь\", \"Подвеска\",\n",
    "    \"Браслет\", \"Коробка универсальная черная SOKOLOV\", \"Колье\",\n",
    "    \"Брошь\", \"сертификат\", \"Пирсинг\", \"Булавка\", \"Сюрприз-бокс\",\n",
    "    \"Коробка универсальная белая SOKOLOV\", \"Часы наручные\",\n",
    "    \"Пакет малый бумажный черный SOKOLOV\",\n",
    "    \"Пакет малый бумажный белый SOKOLOV\", \"Ложка\", \"Шарм\",\n",
    "    \"Часы ювелирные\", \"Коробка красная квадратная\",\n",
    "    \"Подарочная подвеска\", \"Запонки\", \"Коробка черная квадратная\",\n",
    "    \"Сувенир\", \"Столовый прибор\", \"Коробка красная длинная\", \"Шнур\",\n",
    "    \"Удлинитель\", \"Зажимы для галстука\", \"Кружка\", \"Брелок\",\n",
    "    \"Вилка\"\n",
    "]\n",
    "\n",
    "pattern_products = \"|\".join([re.escape(item) for item in products_type])\n",
    "\n",
    "def clean_item(text):\n",
    "    if pd.isna(text):\n",
    "        return text\n",
    "\n",
    "    text = str(text)\n",
    "\n",
    "    # 1. Удаляем всё спереди до типа товара\n",
    "    match = re.search(rf\"({pattern_products})\", text, flags=re.IGNORECASE)\n",
    "    if match:\n",
    "        start_idx = match.start()\n",
    "        text = text[start_idx:]  # оставляем всё от типа товара до конца строки\n",
    "\n",
    "    # 2. Убираем лишние пробелы и _\n",
    "    text = re.sub(r\"[_]+\", \" \", text)\n",
    "    text = re.sub(r\"\\s{2,}\", \" \", text)\n",
    "\n",
    "    # 3. Убираем суммы в конце строки (цифры с пробелами и \\xa0)\n",
    "    text = re.sub(r\"(?:\\s*\\d[\\d\\s\\xa0]*)$\", \"\", text)\n",
    "\n",
    "    # 4. Очищаем лишние точки/дефисы/пробелы с начала и конца\n",
    "    text = text.strip(\".- \")\n",
    "\n",
    "    return text"
   ]
  },
  {
   "cell_type": "code",
   "execution_count": 129,
   "id": "b4402222",
   "metadata": {},
   "outputs": [
    {
     "data": {
      "text/plain": [
       "array(['Серьги (Ag 925)', 'Кольцо (Ag 925)',\n",
       "       'Обручальное кольцо (Au 585)', 'Цепь (Ag 925)', 'Кольцо (Au 585)',\n",
       "       'Серьги (Au 585)', 'Подвеска (Ag 925)', 'Браслет (Ag 925)',\n",
       "       'Подвеска (Au 585)', 'Цепь (Au 585)', 'Браслет (Au 585)',\n",
       "       'Коробка универсальная черная SOKOLOV', 'Колье (Ag 925)',\n",
       "       'Колье (Au 585)', 'Обручальное кольцо (Ag 925)', 'Брошь (Ag 925)',\n",
       "       'сертификат (6 месяцев)', 'Пирсинг (Au 585)', 'Булавка (Ag 925)',\n",
       "       'Сюрприз-бокс (ювелирное изделие)', 'Серьга (Ag 925)',\n",
       "       'Коробка универсальная белая SOKOLOV', 'Часы наручные (Сталь 0)',\n",
       "       'Пакет малый бумажный черный SOKOLOV',\n",
       "       'Пакет малый бумажный белый SOKOLOV', 'Ложка (Ag 925)',\n",
       "       'Шарм (Ag 925)', 'Часы ювелирные (Au 585)', 'Брошь (Au 585)',\n",
       "       'Коробка красная квадратная', 'Пирсинг (Ag 925)',\n",
       "       'Подарочная подвеска (Ag 800)', 'Подарочная подвеска (Ag 925)',\n",
       "       'Запонки (Ag 925)', 'Серьга (Au 585)', 'Коробка черная квадратная',\n",
       "       'сертификат', 'Булавка (Au 585)', 'Сувенир (Ag 925)',\n",
       "       'Столовый прибор (Ag 925)', 'Часы ювелирные (Ag 925)',\n",
       "       'Коробка красная длинная', 'Браслет (Au 375)', 'Шнур (Ag 925)',\n",
       "       'Удлинитель (Au 585)', 'Зажимы для галстука (Au 585)',\n",
       "       'Кружка (Ag 925)', 'Брелок (Ag 925)',\n",
       "       'Зажимы для галстука (Ag 925)', 'Вилка (Ag 925)', 'Шнур (Au 585)'],\n",
       "      dtype=object)"
      ]
     },
     "execution_count": 129,
     "metadata": {},
     "output_type": "execute_result"
    }
   ],
   "source": [
    "dataframe[\"Item\"] = dataframe[\"Item\"].apply(clean_item)\n",
    "dataframe[\"Item\"].unique()"
   ]
  },
  {
   "cell_type": "markdown",
   "id": "2416640e",
   "metadata": {},
   "source": [
    "## Подсчет материалов в item"
   ]
  },
  {
   "cell_type": "code",
   "execution_count": 130,
   "id": "4e4661b4",
   "metadata": {},
   "outputs": [],
   "source": [
    "def count_occurrences(data, patterns):\n",
    "    counts = {p: 0 for p in patterns}\n",
    "\n",
    "    for item in data:\n",
    "        if isinstance(item, str):\n",
    "            lower_item = item.lower()\n",
    "            for p in patterns:\n",
    "                if p.lower() in lower_item:\n",
    "                    counts[p] += 1\n",
    "\n",
    "    return counts"
   ]
  },
  {
   "cell_type": "code",
   "execution_count": 131,
   "id": "90f17731",
   "metadata": {},
   "outputs": [
    {
     "name": "stdout",
     "output_type": "stream",
     "text": [
      "{'Сталь 0': 303, 'Ag': 22147, 'Au': 12791, 'ювелирное изделие': 2019, 'месяц': 229}\n"
     ]
    }
   ],
   "source": [
    "patterns = [\"Сталь 0\", \"Ag\", \"Au\", \"ювелирное изделие\", \"месяц\"]\n",
    "materials = dataframe[\"Item\"].tolist()\n",
    "\n",
    "result = count_occurrences(materials, patterns)\n",
    "print(result)"
   ]
  },
  {
   "cell_type": "code",
   "execution_count": 132,
   "id": "ecb80707",
   "metadata": {},
   "outputs": [
    {
     "name": "stdout",
     "output_type": "stream",
     "text": [
      "<class 'pandas.core.frame.DataFrame'>\n",
      "RangeIndex: 39480 entries, 0 to 39479\n",
      "Data columns (total 7 columns):\n",
      " #   Column           Non-Null Count  Dtype  \n",
      "---  ------           --------------  -----  \n",
      " 0   user_id          39480 non-null  object \n",
      " 1   countPoints      39480 non-null  int64  \n",
      " 2   Item             39480 non-null  object \n",
      " 3   Date             39480 non-null  object \n",
      " 4   Price            39480 non-null  int64  \n",
      " 5   Fromat_Offline   39480 non-null  float64\n",
      " 6   Format_Trade_In  39480 non-null  float64\n",
      "dtypes: float64(2), int64(2), object(3)\n",
      "memory usage: 2.1+ MB\n"
     ]
    }
   ],
   "source": [
    "dataframe.info()"
   ]
  },
  {
   "cell_type": "code",
   "execution_count": 133,
   "id": "7e41cb44",
   "metadata": {},
   "outputs": [
    {
     "name": "stdout",
     "output_type": "stream",
     "text": [
      "['Коробка красная длинная', 'Коробка красная длинная', 'Коробка красная длинная', 'Коробка красная длинная', 'Коробка красная длинная', 'Коробка красная длинная', 'Коробка красная длинная', 'Коробка красная длинная', 'Коробка красная длинная', 'Коробка красная длинная', 'Коробка красная длинная', 'Коробка красная длинная', 'Коробка красная длинная', 'Коробка красная длинная', 'Коробка красная длинная', 'Коробка красная длинная', 'Коробка красная длинная', 'Коробка красная длинная']\n"
     ]
    }
   ],
   "source": [
    "a = [i for i in dataframe[\"Item\"] if \"длинная\" in i]\n",
    "print(a)"
   ]
  },
  {
   "cell_type": "markdown",
   "id": "feb9140b",
   "metadata": {},
   "source": [
    "## Отделяем материалы от item"
   ]
  },
  {
   "cell_type": "code",
   "execution_count": 67,
   "id": "ec8840f2",
   "metadata": {},
   "outputs": [],
   "source": [
    "dataframe = pd.read_csv(\"../prepared_data.csv\")"
   ]
  },
  {
   "cell_type": "code",
   "execution_count": null,
   "id": "9b8d87a7",
   "metadata": {},
   "outputs": [],
   "source": [
    "dataframe.head()"
   ]
  },
  {
   "cell_type": "code",
   "execution_count": 134,
   "id": "9e5dcf7c",
   "metadata": {},
   "outputs": [],
   "source": [
    "def extract_material_full(item):\n",
    "    if pd.isna(item):\n",
    "        return None\n",
    "\n",
    "    match = re.search(r\"\\(([^)]+)\\)\", item)\n",
    "    if match:\n",
    "        return match.group(1).strip()\n",
    "    return None\n",
    "\n",
    "\n",
    "dataframe[\"Material\"] = dataframe[\"Item\"].apply(extract_material_full)"
   ]
  },
  {
   "cell_type": "code",
   "execution_count": 135,
   "id": "c1d30532",
   "metadata": {},
   "outputs": [
    {
     "data": {
      "text/html": [
       "<div>\n",
       "<style scoped>\n",
       "    .dataframe tbody tr th:only-of-type {\n",
       "        vertical-align: middle;\n",
       "    }\n",
       "\n",
       "    .dataframe tbody tr th {\n",
       "        vertical-align: top;\n",
       "    }\n",
       "\n",
       "    .dataframe thead th {\n",
       "        text-align: right;\n",
       "    }\n",
       "</style>\n",
       "<table border=\"1\" class=\"dataframe\">\n",
       "  <thead>\n",
       "    <tr style=\"text-align: right;\">\n",
       "      <th></th>\n",
       "      <th>user_id</th>\n",
       "      <th>countPoints</th>\n",
       "      <th>Item</th>\n",
       "      <th>Date</th>\n",
       "      <th>Price</th>\n",
       "      <th>Fromat_Offline</th>\n",
       "      <th>Format_Trade_In</th>\n",
       "      <th>Material</th>\n",
       "    </tr>\n",
       "  </thead>\n",
       "  <tbody>\n",
       "    <tr>\n",
       "      <th>0</th>\n",
       "      <td>USER_923730</td>\n",
       "      <td>335</td>\n",
       "      <td>Серьги (Ag 925)</td>\n",
       "      <td>2024-09-25</td>\n",
       "      <td>28000</td>\n",
       "      <td>1.0</td>\n",
       "      <td>0.0</td>\n",
       "      <td>Ag 925</td>\n",
       "    </tr>\n",
       "    <tr>\n",
       "      <th>1</th>\n",
       "      <td>USER_923730</td>\n",
       "      <td>335</td>\n",
       "      <td>Серьги (Ag 925)</td>\n",
       "      <td>2024-09-25</td>\n",
       "      <td>11199</td>\n",
       "      <td>1.0</td>\n",
       "      <td>0.0</td>\n",
       "      <td>Ag 925</td>\n",
       "    </tr>\n",
       "    <tr>\n",
       "      <th>2</th>\n",
       "      <td>USER_215040</td>\n",
       "      <td>655</td>\n",
       "      <td>Серьги (Ag 925)</td>\n",
       "      <td>2024-11-14</td>\n",
       "      <td>21860</td>\n",
       "      <td>1.0</td>\n",
       "      <td>0.0</td>\n",
       "      <td>Ag 925</td>\n",
       "    </tr>\n",
       "    <tr>\n",
       "      <th>3</th>\n",
       "      <td>USER_313086</td>\n",
       "      <td>378</td>\n",
       "      <td>Кольцо (Ag 925)</td>\n",
       "      <td>2024-06-21</td>\n",
       "      <td>4511</td>\n",
       "      <td>1.0</td>\n",
       "      <td>0.0</td>\n",
       "      <td>Ag 925</td>\n",
       "    </tr>\n",
       "    <tr>\n",
       "      <th>4</th>\n",
       "      <td>USER_313086</td>\n",
       "      <td>378</td>\n",
       "      <td>Серьги (Ag 925)</td>\n",
       "      <td>2024-06-21</td>\n",
       "      <td>7088</td>\n",
       "      <td>1.0</td>\n",
       "      <td>0.0</td>\n",
       "      <td>Ag 925</td>\n",
       "    </tr>\n",
       "  </tbody>\n",
       "</table>\n",
       "</div>"
      ],
      "text/plain": [
       "       user_id  countPoints             Item        Date  Price  \\\n",
       "0  USER_923730          335  Серьги (Ag 925)  2024-09-25  28000   \n",
       "1  USER_923730          335  Серьги (Ag 925)  2024-09-25  11199   \n",
       "2  USER_215040          655  Серьги (Ag 925)  2024-11-14  21860   \n",
       "3  USER_313086          378  Кольцо (Ag 925)  2024-06-21   4511   \n",
       "4  USER_313086          378  Серьги (Ag 925)  2024-06-21   7088   \n",
       "\n",
       "   Fromat_Offline  Format_Trade_In Material  \n",
       "0             1.0              0.0   Ag 925  \n",
       "1             1.0              0.0   Ag 925  \n",
       "2             1.0              0.0   Ag 925  \n",
       "3             1.0              0.0   Ag 925  \n",
       "4             1.0              0.0   Ag 925  "
      ]
     },
     "execution_count": 135,
     "metadata": {},
     "output_type": "execute_result"
    }
   ],
   "source": [
    "dataframe.head()"
   ]
  },
  {
   "cell_type": "code",
   "execution_count": 136,
   "id": "3aebc3de",
   "metadata": {},
   "outputs": [
    {
     "data": {
      "text/plain": [
       "array(['Ag 925', 'Au 585', None, '6 месяцев', 'ювелирное изделие',\n",
       "       'Сталь 0', 'Ag 800', 'Au 375'], dtype=object)"
      ]
     },
     "execution_count": 136,
     "metadata": {},
     "output_type": "execute_result"
    }
   ],
   "source": [
    "dataframe[\"Material\"].unique()"
   ]
  },
  {
   "cell_type": "code",
   "execution_count": 138,
   "id": "aff0abbe",
   "metadata": {},
   "outputs": [
    {
     "data": {
      "text/plain": [
       "array(['Серьги (Ag 925)', 'Кольцо (Ag 925)',\n",
       "       'Обручальное кольцо (Au 585)', 'Цепь (Ag 925)', 'Кольцо (Au 585)',\n",
       "       'Серьги (Au 585)', 'Подвеска (Ag 925)', 'Браслет (Ag 925)',\n",
       "       'Подвеска (Au 585)', 'Цепь (Au 585)', 'Браслет (Au 585)',\n",
       "       'Коробка универсальная черная SOKOLOV', 'Колье (Ag 925)',\n",
       "       'Колье (Au 585)', 'Обручальное кольцо (Ag 925)', 'Брошь (Ag 925)',\n",
       "       'сертификат (6 месяцев)', 'Пирсинг (Au 585)', 'Булавка (Ag 925)',\n",
       "       'Сюрприз-бокс (ювелирное изделие)', 'Серьга (Ag 925)',\n",
       "       'Коробка универсальная белая SOKOLOV', 'Часы наручные (Сталь 0)',\n",
       "       'Пакет малый бумажный черный SOKOLOV',\n",
       "       'Пакет малый бумажный белый SOKOLOV', 'Ложка (Ag 925)',\n",
       "       'Шарм (Ag 925)', 'Часы ювелирные (Au 585)', 'Брошь (Au 585)',\n",
       "       'Коробка красная квадратная', 'Пирсинг (Ag 925)',\n",
       "       'Подарочная подвеска (Ag 800)', 'Подарочная подвеска (Ag 925)',\n",
       "       'Запонки (Ag 925)', 'Серьга (Au 585)', 'Коробка черная квадратная',\n",
       "       'сертификат', 'Булавка (Au 585)', 'Сувенир (Ag 925)',\n",
       "       'Столовый прибор (Ag 925)', 'Часы ювелирные (Ag 925)',\n",
       "       'Коробка красная длинная', 'Браслет (Au 375)', 'Шнур (Ag 925)',\n",
       "       'Удлинитель (Au 585)', 'Зажимы для галстука (Au 585)',\n",
       "       'Кружка (Ag 925)', 'Брелок (Ag 925)',\n",
       "       'Зажимы для галстука (Ag 925)', 'Вилка (Ag 925)', 'Шнур (Au 585)'],\n",
       "      dtype=object)"
      ]
     },
     "execution_count": 138,
     "metadata": {},
     "output_type": "execute_result"
    }
   ],
   "source": [
    "dataframe[\"Item\"].unique()"
   ]
  },
  {
   "cell_type": "code",
   "execution_count": 139,
   "id": "88cb1974",
   "metadata": {},
   "outputs": [
    {
     "name": "stdout",
     "output_type": "stream",
     "text": [
      "{'Сталь 0': 303, 'Ag': 22147, 'Au': 12791, 'ювелирное изделие': 2019, '6 месяц': 229}\n"
     ]
    }
   ],
   "source": [
    "patterns = [\"Сталь 0\", \"Ag\", \"Au\", \"ювелирное изделие\", \"6 месяц\"]\n",
    "materials = dataframe[\"Material\"].tolist()\n",
    "\n",
    "result = count_occurrences(materials, patterns)\n",
    "print(result)"
   ]
  },
  {
   "cell_type": "code",
   "execution_count": 140,
   "id": "df78a2ce",
   "metadata": {},
   "outputs": [],
   "source": [
    "dataframe[\"Item\"] = dataframe[\"Item\"].str.replace(r\"\\s*\\([^)]*\\)\", \"\", regex=True).str.strip()"
   ]
  },
  {
   "cell_type": "code",
   "execution_count": 141,
   "id": "c2e16ca7",
   "metadata": {},
   "outputs": [],
   "source": [
    "dataframe[\"Material\"] = dataframe[\"Material\"].fillna(\"Other\")"
   ]
  },
  {
   "cell_type": "code",
   "execution_count": 142,
   "id": "083c41ee",
   "metadata": {},
   "outputs": [
    {
     "name": "stdout",
     "output_type": "stream",
     "text": [
      "<class 'pandas.core.frame.DataFrame'>\n",
      "RangeIndex: 39480 entries, 0 to 39479\n",
      "Data columns (total 8 columns):\n",
      " #   Column           Non-Null Count  Dtype  \n",
      "---  ------           --------------  -----  \n",
      " 0   user_id          39480 non-null  object \n",
      " 1   countPoints      39480 non-null  int64  \n",
      " 2   Item             39480 non-null  object \n",
      " 3   Date             39480 non-null  object \n",
      " 4   Price            39480 non-null  int64  \n",
      " 5   Fromat_Offline   39480 non-null  float64\n",
      " 6   Format_Trade_In  39480 non-null  float64\n",
      " 7   Material         39480 non-null  object \n",
      "dtypes: float64(2), int64(2), object(4)\n",
      "memory usage: 2.4+ MB\n"
     ]
    }
   ],
   "source": [
    "dataframe.info()"
   ]
  },
  {
   "cell_type": "code",
   "execution_count": 143,
   "id": "8fb4cde1",
   "metadata": {},
   "outputs": [
    {
     "name": "stdout",
     "output_type": "stream",
     "text": [
      "{'Сталь 0': 303, 'Ag': 22147, 'Au': 12791, 'ювелирное изделие': 2019, '6 месяц': 229, 'Other': 1991}\n"
     ]
    }
   ],
   "source": [
    "patterns = [\"Сталь 0\", \"Ag\", \"Au\", \"ювелирное изделие\", \"6 месяц\", \"Other\"]\n",
    "materials = dataframe[\"Material\"].tolist()\n",
    "\n",
    "result = count_occurrences(materials, patterns)\n",
    "print(result)"
   ]
  },
  {
   "cell_type": "code",
   "execution_count": 144,
   "id": "36d49547",
   "metadata": {},
   "outputs": [
    {
     "data": {
      "text/html": [
       "<div>\n",
       "<style scoped>\n",
       "    .dataframe tbody tr th:only-of-type {\n",
       "        vertical-align: middle;\n",
       "    }\n",
       "\n",
       "    .dataframe tbody tr th {\n",
       "        vertical-align: top;\n",
       "    }\n",
       "\n",
       "    .dataframe thead th {\n",
       "        text-align: right;\n",
       "    }\n",
       "</style>\n",
       "<table border=\"1\" class=\"dataframe\">\n",
       "  <thead>\n",
       "    <tr style=\"text-align: right;\">\n",
       "      <th></th>\n",
       "      <th>user_id</th>\n",
       "      <th>countPoints</th>\n",
       "      <th>Item</th>\n",
       "      <th>Date</th>\n",
       "      <th>Price</th>\n",
       "      <th>Fromat_Offline</th>\n",
       "      <th>Format_Trade_In</th>\n",
       "      <th>Material</th>\n",
       "    </tr>\n",
       "  </thead>\n",
       "  <tbody>\n",
       "    <tr>\n",
       "      <th>0</th>\n",
       "      <td>USER_923730</td>\n",
       "      <td>335</td>\n",
       "      <td>Серьги</td>\n",
       "      <td>2024-09-25</td>\n",
       "      <td>28000</td>\n",
       "      <td>1.0</td>\n",
       "      <td>0.0</td>\n",
       "      <td>Ag 925</td>\n",
       "    </tr>\n",
       "    <tr>\n",
       "      <th>1</th>\n",
       "      <td>USER_923730</td>\n",
       "      <td>335</td>\n",
       "      <td>Серьги</td>\n",
       "      <td>2024-09-25</td>\n",
       "      <td>11199</td>\n",
       "      <td>1.0</td>\n",
       "      <td>0.0</td>\n",
       "      <td>Ag 925</td>\n",
       "    </tr>\n",
       "    <tr>\n",
       "      <th>2</th>\n",
       "      <td>USER_215040</td>\n",
       "      <td>655</td>\n",
       "      <td>Серьги</td>\n",
       "      <td>2024-11-14</td>\n",
       "      <td>21860</td>\n",
       "      <td>1.0</td>\n",
       "      <td>0.0</td>\n",
       "      <td>Ag 925</td>\n",
       "    </tr>\n",
       "    <tr>\n",
       "      <th>3</th>\n",
       "      <td>USER_313086</td>\n",
       "      <td>378</td>\n",
       "      <td>Кольцо</td>\n",
       "      <td>2024-06-21</td>\n",
       "      <td>4511</td>\n",
       "      <td>1.0</td>\n",
       "      <td>0.0</td>\n",
       "      <td>Ag 925</td>\n",
       "    </tr>\n",
       "    <tr>\n",
       "      <th>4</th>\n",
       "      <td>USER_313086</td>\n",
       "      <td>378</td>\n",
       "      <td>Серьги</td>\n",
       "      <td>2024-06-21</td>\n",
       "      <td>7088</td>\n",
       "      <td>1.0</td>\n",
       "      <td>0.0</td>\n",
       "      <td>Ag 925</td>\n",
       "    </tr>\n",
       "  </tbody>\n",
       "</table>\n",
       "</div>"
      ],
      "text/plain": [
       "       user_id  countPoints    Item        Date  Price  Fromat_Offline  \\\n",
       "0  USER_923730          335  Серьги  2024-09-25  28000             1.0   \n",
       "1  USER_923730          335  Серьги  2024-09-25  11199             1.0   \n",
       "2  USER_215040          655  Серьги  2024-11-14  21860             1.0   \n",
       "3  USER_313086          378  Кольцо  2024-06-21   4511             1.0   \n",
       "4  USER_313086          378  Серьги  2024-06-21   7088             1.0   \n",
       "\n",
       "   Format_Trade_In Material  \n",
       "0              0.0   Ag 925  \n",
       "1              0.0   Ag 925  \n",
       "2              0.0   Ag 925  \n",
       "3              0.0   Ag 925  \n",
       "4              0.0   Ag 925  "
      ]
     },
     "execution_count": 144,
     "metadata": {},
     "output_type": "execute_result"
    }
   ],
   "source": [
    "dataframe.head()"
   ]
  },
  {
   "cell_type": "code",
   "execution_count": 145,
   "id": "774e5908",
   "metadata": {},
   "outputs": [
    {
     "data": {
      "text/html": [
       "<div>\n",
       "<style scoped>\n",
       "    .dataframe tbody tr th:only-of-type {\n",
       "        vertical-align: middle;\n",
       "    }\n",
       "\n",
       "    .dataframe tbody tr th {\n",
       "        vertical-align: top;\n",
       "    }\n",
       "\n",
       "    .dataframe thead th {\n",
       "        text-align: right;\n",
       "    }\n",
       "</style>\n",
       "<table border=\"1\" class=\"dataframe\">\n",
       "  <thead>\n",
       "    <tr style=\"text-align: right;\">\n",
       "      <th></th>\n",
       "      <th>user_id</th>\n",
       "      <th>countPoints</th>\n",
       "      <th>Item</th>\n",
       "      <th>Date</th>\n",
       "      <th>Price</th>\n",
       "      <th>Fromat_Offline</th>\n",
       "      <th>Format_Trade_In</th>\n",
       "      <th>Material_6 месяцев</th>\n",
       "      <th>Material_Ag 800</th>\n",
       "      <th>Material_Ag 925</th>\n",
       "      <th>Material_Au 375</th>\n",
       "      <th>Material_Au 585</th>\n",
       "      <th>Material_Other</th>\n",
       "      <th>Material_Сталь 0</th>\n",
       "      <th>Material_ювелирное изделие</th>\n",
       "    </tr>\n",
       "  </thead>\n",
       "  <tbody>\n",
       "    <tr>\n",
       "      <th>0</th>\n",
       "      <td>USER_923730</td>\n",
       "      <td>335</td>\n",
       "      <td>Серьги</td>\n",
       "      <td>2024-09-25</td>\n",
       "      <td>28000</td>\n",
       "      <td>1.0</td>\n",
       "      <td>0.0</td>\n",
       "      <td>0.0</td>\n",
       "      <td>0.0</td>\n",
       "      <td>1.0</td>\n",
       "      <td>0.0</td>\n",
       "      <td>0.0</td>\n",
       "      <td>0.0</td>\n",
       "      <td>0.0</td>\n",
       "      <td>0.0</td>\n",
       "    </tr>\n",
       "    <tr>\n",
       "      <th>1</th>\n",
       "      <td>USER_923730</td>\n",
       "      <td>335</td>\n",
       "      <td>Серьги</td>\n",
       "      <td>2024-09-25</td>\n",
       "      <td>11199</td>\n",
       "      <td>1.0</td>\n",
       "      <td>0.0</td>\n",
       "      <td>0.0</td>\n",
       "      <td>0.0</td>\n",
       "      <td>1.0</td>\n",
       "      <td>0.0</td>\n",
       "      <td>0.0</td>\n",
       "      <td>0.0</td>\n",
       "      <td>0.0</td>\n",
       "      <td>0.0</td>\n",
       "    </tr>\n",
       "    <tr>\n",
       "      <th>2</th>\n",
       "      <td>USER_215040</td>\n",
       "      <td>655</td>\n",
       "      <td>Серьги</td>\n",
       "      <td>2024-11-14</td>\n",
       "      <td>21860</td>\n",
       "      <td>1.0</td>\n",
       "      <td>0.0</td>\n",
       "      <td>0.0</td>\n",
       "      <td>0.0</td>\n",
       "      <td>1.0</td>\n",
       "      <td>0.0</td>\n",
       "      <td>0.0</td>\n",
       "      <td>0.0</td>\n",
       "      <td>0.0</td>\n",
       "      <td>0.0</td>\n",
       "    </tr>\n",
       "    <tr>\n",
       "      <th>3</th>\n",
       "      <td>USER_313086</td>\n",
       "      <td>378</td>\n",
       "      <td>Кольцо</td>\n",
       "      <td>2024-06-21</td>\n",
       "      <td>4511</td>\n",
       "      <td>1.0</td>\n",
       "      <td>0.0</td>\n",
       "      <td>0.0</td>\n",
       "      <td>0.0</td>\n",
       "      <td>1.0</td>\n",
       "      <td>0.0</td>\n",
       "      <td>0.0</td>\n",
       "      <td>0.0</td>\n",
       "      <td>0.0</td>\n",
       "      <td>0.0</td>\n",
       "    </tr>\n",
       "    <tr>\n",
       "      <th>4</th>\n",
       "      <td>USER_313086</td>\n",
       "      <td>378</td>\n",
       "      <td>Серьги</td>\n",
       "      <td>2024-06-21</td>\n",
       "      <td>7088</td>\n",
       "      <td>1.0</td>\n",
       "      <td>0.0</td>\n",
       "      <td>0.0</td>\n",
       "      <td>0.0</td>\n",
       "      <td>1.0</td>\n",
       "      <td>0.0</td>\n",
       "      <td>0.0</td>\n",
       "      <td>0.0</td>\n",
       "      <td>0.0</td>\n",
       "      <td>0.0</td>\n",
       "    </tr>\n",
       "  </tbody>\n",
       "</table>\n",
       "</div>"
      ],
      "text/plain": [
       "       user_id  countPoints    Item        Date  Price  Fromat_Offline  \\\n",
       "0  USER_923730          335  Серьги  2024-09-25  28000             1.0   \n",
       "1  USER_923730          335  Серьги  2024-09-25  11199             1.0   \n",
       "2  USER_215040          655  Серьги  2024-11-14  21860             1.0   \n",
       "3  USER_313086          378  Кольцо  2024-06-21   4511             1.0   \n",
       "4  USER_313086          378  Серьги  2024-06-21   7088             1.0   \n",
       "\n",
       "   Format_Trade_In  Material_6 месяцев  Material_Ag 800  Material_Ag 925  \\\n",
       "0              0.0                 0.0              0.0              1.0   \n",
       "1              0.0                 0.0              0.0              1.0   \n",
       "2              0.0                 0.0              0.0              1.0   \n",
       "3              0.0                 0.0              0.0              1.0   \n",
       "4              0.0                 0.0              0.0              1.0   \n",
       "\n",
       "   Material_Au 375  Material_Au 585  Material_Other  Material_Сталь 0  \\\n",
       "0              0.0              0.0             0.0               0.0   \n",
       "1              0.0              0.0             0.0               0.0   \n",
       "2              0.0              0.0             0.0               0.0   \n",
       "3              0.0              0.0             0.0               0.0   \n",
       "4              0.0              0.0             0.0               0.0   \n",
       "\n",
       "   Material_ювелирное изделие  \n",
       "0                         0.0  \n",
       "1                         0.0  \n",
       "2                         0.0  \n",
       "3                         0.0  \n",
       "4                         0.0  "
      ]
     },
     "execution_count": 145,
     "metadata": {},
     "output_type": "execute_result"
    }
   ],
   "source": [
    "encoded_array = one_hot_enc.fit_transform(dataframe[[\"Material\"]])\n",
    "\n",
    "encoded_df = pd.DataFrame(\n",
    "    encoded_array, columns=one_hot_enc.get_feature_names_out([\"Material\"])\n",
    ")\n",
    "dataframe = pd.concat([dataframe.drop(columns=[\"Material\"]), encoded_df], axis=1)\n",
    "dataframe.head()"
   ]
  },
  {
   "cell_type": "code",
   "execution_count": 146,
   "id": "d2aba19e",
   "metadata": {},
   "outputs": [],
   "source": [
    "dataframe.rename(\n",
    "    columns={\n",
    "        \"Material_6 месяцев\": \"sertificate_6_months\",\n",
    "        \"Material_Ag 800\": \"Ag_800\",\n",
    "        \"Material_Ag 925\": \"Ag_925\",\n",
    "        \"Material_Au 375\": \"Au_375\",\n",
    "        \"Material_Au 585\": \"Au_585\",\n",
    "        \"Material_Other\": \"Other_materials\",\n",
    "        \"Material_Сталь 0\": \"Steal_0\",\n",
    "        \"Material_ювелирное изделие\": \"Jewelry\",\n",
    "    },\n",
    "    inplace=True,\n",
    ")"
   ]
  },
  {
   "cell_type": "code",
   "execution_count": 147,
   "id": "8cb94d82",
   "metadata": {},
   "outputs": [
    {
     "data": {
      "text/html": [
       "<div>\n",
       "<style scoped>\n",
       "    .dataframe tbody tr th:only-of-type {\n",
       "        vertical-align: middle;\n",
       "    }\n",
       "\n",
       "    .dataframe tbody tr th {\n",
       "        vertical-align: top;\n",
       "    }\n",
       "\n",
       "    .dataframe thead th {\n",
       "        text-align: right;\n",
       "    }\n",
       "</style>\n",
       "<table border=\"1\" class=\"dataframe\">\n",
       "  <thead>\n",
       "    <tr style=\"text-align: right;\">\n",
       "      <th></th>\n",
       "      <th>user_id</th>\n",
       "      <th>countPoints</th>\n",
       "      <th>Item</th>\n",
       "      <th>Date</th>\n",
       "      <th>Price</th>\n",
       "      <th>Fromat_Offline</th>\n",
       "      <th>Format_Trade_In</th>\n",
       "      <th>sertificate_6_months</th>\n",
       "      <th>Ag_800</th>\n",
       "      <th>Ag_925</th>\n",
       "      <th>Au_375</th>\n",
       "      <th>Au_585</th>\n",
       "      <th>Other_materials</th>\n",
       "      <th>Steal_0</th>\n",
       "      <th>Jewelry</th>\n",
       "    </tr>\n",
       "  </thead>\n",
       "  <tbody>\n",
       "    <tr>\n",
       "      <th>0</th>\n",
       "      <td>USER_923730</td>\n",
       "      <td>335</td>\n",
       "      <td>Серьги</td>\n",
       "      <td>2024-09-25</td>\n",
       "      <td>28000</td>\n",
       "      <td>1.0</td>\n",
       "      <td>0.0</td>\n",
       "      <td>0.0</td>\n",
       "      <td>0.0</td>\n",
       "      <td>1.0</td>\n",
       "      <td>0.0</td>\n",
       "      <td>0.0</td>\n",
       "      <td>0.0</td>\n",
       "      <td>0.0</td>\n",
       "      <td>0.0</td>\n",
       "    </tr>\n",
       "    <tr>\n",
       "      <th>1</th>\n",
       "      <td>USER_923730</td>\n",
       "      <td>335</td>\n",
       "      <td>Серьги</td>\n",
       "      <td>2024-09-25</td>\n",
       "      <td>11199</td>\n",
       "      <td>1.0</td>\n",
       "      <td>0.0</td>\n",
       "      <td>0.0</td>\n",
       "      <td>0.0</td>\n",
       "      <td>1.0</td>\n",
       "      <td>0.0</td>\n",
       "      <td>0.0</td>\n",
       "      <td>0.0</td>\n",
       "      <td>0.0</td>\n",
       "      <td>0.0</td>\n",
       "    </tr>\n",
       "    <tr>\n",
       "      <th>2</th>\n",
       "      <td>USER_215040</td>\n",
       "      <td>655</td>\n",
       "      <td>Серьги</td>\n",
       "      <td>2024-11-14</td>\n",
       "      <td>21860</td>\n",
       "      <td>1.0</td>\n",
       "      <td>0.0</td>\n",
       "      <td>0.0</td>\n",
       "      <td>0.0</td>\n",
       "      <td>1.0</td>\n",
       "      <td>0.0</td>\n",
       "      <td>0.0</td>\n",
       "      <td>0.0</td>\n",
       "      <td>0.0</td>\n",
       "      <td>0.0</td>\n",
       "    </tr>\n",
       "    <tr>\n",
       "      <th>3</th>\n",
       "      <td>USER_313086</td>\n",
       "      <td>378</td>\n",
       "      <td>Кольцо</td>\n",
       "      <td>2024-06-21</td>\n",
       "      <td>4511</td>\n",
       "      <td>1.0</td>\n",
       "      <td>0.0</td>\n",
       "      <td>0.0</td>\n",
       "      <td>0.0</td>\n",
       "      <td>1.0</td>\n",
       "      <td>0.0</td>\n",
       "      <td>0.0</td>\n",
       "      <td>0.0</td>\n",
       "      <td>0.0</td>\n",
       "      <td>0.0</td>\n",
       "    </tr>\n",
       "    <tr>\n",
       "      <th>4</th>\n",
       "      <td>USER_313086</td>\n",
       "      <td>378</td>\n",
       "      <td>Серьги</td>\n",
       "      <td>2024-06-21</td>\n",
       "      <td>7088</td>\n",
       "      <td>1.0</td>\n",
       "      <td>0.0</td>\n",
       "      <td>0.0</td>\n",
       "      <td>0.0</td>\n",
       "      <td>1.0</td>\n",
       "      <td>0.0</td>\n",
       "      <td>0.0</td>\n",
       "      <td>0.0</td>\n",
       "      <td>0.0</td>\n",
       "      <td>0.0</td>\n",
       "    </tr>\n",
       "  </tbody>\n",
       "</table>\n",
       "</div>"
      ],
      "text/plain": [
       "       user_id  countPoints    Item        Date  Price  Fromat_Offline  \\\n",
       "0  USER_923730          335  Серьги  2024-09-25  28000             1.0   \n",
       "1  USER_923730          335  Серьги  2024-09-25  11199             1.0   \n",
       "2  USER_215040          655  Серьги  2024-11-14  21860             1.0   \n",
       "3  USER_313086          378  Кольцо  2024-06-21   4511             1.0   \n",
       "4  USER_313086          378  Серьги  2024-06-21   7088             1.0   \n",
       "\n",
       "   Format_Trade_In  sertificate_6_months  Ag_800  Ag_925  Au_375  Au_585  \\\n",
       "0              0.0                   0.0     0.0     1.0     0.0     0.0   \n",
       "1              0.0                   0.0     0.0     1.0     0.0     0.0   \n",
       "2              0.0                   0.0     0.0     1.0     0.0     0.0   \n",
       "3              0.0                   0.0     0.0     1.0     0.0     0.0   \n",
       "4              0.0                   0.0     0.0     1.0     0.0     0.0   \n",
       "\n",
       "   Other_materials  Steal_0  Jewelry  \n",
       "0              0.0      0.0      0.0  \n",
       "1              0.0      0.0      0.0  \n",
       "2              0.0      0.0      0.0  \n",
       "3              0.0      0.0      0.0  \n",
       "4              0.0      0.0      0.0  "
      ]
     },
     "execution_count": 147,
     "metadata": {},
     "output_type": "execute_result"
    }
   ],
   "source": [
    "dataframe.head()"
   ]
  },
  {
   "cell_type": "code",
   "execution_count": 148,
   "id": "b9990f60",
   "metadata": {},
   "outputs": [
    {
     "name": "stdout",
     "output_type": "stream",
     "text": [
      "<class 'pandas.core.frame.DataFrame'>\n",
      "RangeIndex: 39480 entries, 0 to 39479\n",
      "Data columns (total 15 columns):\n",
      " #   Column                Non-Null Count  Dtype  \n",
      "---  ------                --------------  -----  \n",
      " 0   user_id               39480 non-null  object \n",
      " 1   countPoints           39480 non-null  int64  \n",
      " 2   Item                  39480 non-null  object \n",
      " 3   Date                  39480 non-null  object \n",
      " 4   Price                 39480 non-null  int64  \n",
      " 5   Fromat_Offline        39480 non-null  float64\n",
      " 6   Format_Trade_In       39480 non-null  float64\n",
      " 7   sertificate_6_months  39480 non-null  float64\n",
      " 8   Ag_800                39480 non-null  float64\n",
      " 9   Ag_925                39480 non-null  float64\n",
      " 10  Au_375                39480 non-null  float64\n",
      " 11  Au_585                39480 non-null  float64\n",
      " 12  Other_materials       39480 non-null  float64\n",
      " 13  Steal_0               39480 non-null  float64\n",
      " 14  Jewelry               39480 non-null  float64\n",
      "dtypes: float64(10), int64(2), object(3)\n",
      "memory usage: 4.5+ MB\n"
     ]
    }
   ],
   "source": [
    "dataframe.info()"
   ]
  },
  {
   "cell_type": "code",
   "execution_count": 118,
   "id": "9f21ef03",
   "metadata": {},
   "outputs": [],
   "source": [
    "dataframe.to_csv(\"../prepared_data.csv\", index=False)"
   ]
  },
  {
   "cell_type": "markdown",
   "id": "2be61f0f",
   "metadata": {},
   "source": [
    "## Функции для визуализации"
   ]
  },
  {
   "cell_type": "code",
   "execution_count": null,
   "id": "9a780d20",
   "metadata": {},
   "outputs": [],
   "source": [
    "def time_series_plot(data, user=None):\n",
    "    ts_rolling = data.rolling(window=7).sum()\n",
    "    plt.figure(figsize=(10, 5))\n",
    "    plt.plot(ts_rolling.index, ts_rolling.values, color=\"blue\", marker=\"o\")\n",
    "    plt.xticks(ts_rolling.index[::7], rotation=45)\n",
    "\n",
    "    if user == None:\n",
    "        plt.title(f\"Покупки пользователя {user}\")\n",
    "    plt.title(f\"Общие покупки пользователей\")\n",
    "    plt.xlabel(\"Дата\")\n",
    "    plt.ylabel(\"Количество купленного товара\")\n",
    "    plt.legend()\n",
    "\n",
    "    plt.grid(True)\n",
    "    plt.show()\n",
    "\n",
    "\n",
    "def boxplot_graphic(data):\n",
    "    fig, axes = plt.subplots(2, 6, figsize=(22, 11))\n",
    "    fig.suptitle(\"Box-plot\")\n",
    "\n",
    "    row = 0\n",
    "    col = 0\n",
    "\n",
    "    for ax, feature in enumerate(data):\n",
    "        data[feature].plot.box(ax=axes[row, col])\n",
    "        col += 1\n",
    "        if col > 5:\n",
    "            row += 1\n",
    "            col = 0\n",
    "\n",
    "    plt.show()"
   ]
  },
  {
   "cell_type": "markdown",
   "id": "b875c979",
   "metadata": {},
   "source": [
    "## Временные ряды"
   ]
  },
  {
   "cell_type": "code",
   "execution_count": null,
   "id": "ad790b7f",
   "metadata": {},
   "outputs": [],
   "source": [
    "user_counts = dataframe[\"user_id\"].value_counts()\n",
    "most_active_user = user_counts.idxmax()\n",
    "num_activities = user_counts.max()\n",
    "print(\n",
    "    f\"Самый активный пользователь: {most_active_user}\\nКоличество активностей: {num_activities}\"\n",
    ")"
   ]
  },
  {
   "cell_type": "code",
   "execution_count": null,
   "id": "c7968aa0",
   "metadata": {},
   "outputs": [],
   "source": [
    "min_ts = min(dataframe[\"Date\"])\n",
    "max_ts = max(dataframe[\"Date\"])\n",
    "print(min_ts)\n",
    "print(max_ts)"
   ]
  },
  {
   "cell_type": "code",
   "execution_count": null,
   "id": "beeca0ae",
   "metadata": {},
   "outputs": [],
   "source": [
    "max_count_of_user = len(dataframe[\"user_id\"].unique())\n",
    "max_count_of_user"
   ]
  },
  {
   "cell_type": "code",
   "execution_count": null,
   "id": "e994508a",
   "metadata": {},
   "outputs": [],
   "source": [
    "def user_purchase(user_id):\n",
    "    user_data = dataframe[dataframe[\"user_id\"] == user_id]\n",
    "    ts = user_data.groupby(\"Date\").size()\n",
    "    return ts\n",
    "\n",
    "\n",
    "def common_purchase(data):\n",
    "    data[\"Date\"] = pd.to_datetime(data[\"Date\"], format=\"%Y-%m-%d\")\n",
    "    ts = data.groupby(\"Date\").size()\n",
    "    return ts"
   ]
  },
  {
   "cell_type": "code",
   "execution_count": null,
   "id": "a274fc27",
   "metadata": {},
   "outputs": [],
   "source": [
    "res = common_purchase(dataframe)\n",
    "print(res.head(10))\n",
    "\n",
    "time_series_plot(data=res)"
   ]
  },
  {
   "cell_type": "code",
   "execution_count": null,
   "id": "670573c6",
   "metadata": {},
   "outputs": [],
   "source": [
    "dataframe[\"Format\"].hist(figsize=(8, 8))"
   ]
  }
 ],
 "metadata": {
  "kernelspec": {
   "display_name": ".venv",
   "language": "python",
   "name": "python3"
  },
  "language_info": {
   "codemirror_mode": {
    "name": "ipython",
    "version": 3
   },
   "file_extension": ".py",
   "mimetype": "text/x-python",
   "name": "python",
   "nbconvert_exporter": "python",
   "pygments_lexer": "ipython3",
   "version": "3.13.2"
  }
 },
 "nbformat": 4,
 "nbformat_minor": 5
}
